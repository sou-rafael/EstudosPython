{
 "cells": [
  {
   "cell_type": "markdown",
   "metadata": {},
   "source": [
    "#   LIST - lista  \n",
    "Uma lista é uma estrutura de dados composta por itens organizados de forma linear, na qual cada um pode ser acessado a partir de um **índice**, que representa sua posição na coleção (iniciando em zero).  \n",
    "Os valores que formam uma lista são chamados elementos ou itens.  \n",
    "Listas são similares a strings, que são uma sequência de caracteres, no entanto, diferentemente de strings, os itens de uma lista podem ser de tipos diferentes."
   ]
  },
  {
   "cell_type": "markdown",
   "metadata": {},
   "source": [
    "##  Formas de criar uma lista  \n",
    "* Através do operador \" [ ] \" - criamos uma lista vazia.  \n",
    "* Inserindo valores diretamente dentro do operador - [1, 3, 5, 7]  \n",
    "* Fazendo ***comprehensions*** - [x for x in iteravel if x...]  \n"
   ]
  },
  {
   "cell_type": "code",
   "execution_count": 17,
   "metadata": {},
   "outputs": [
    {
     "name": "stdout",
     "output_type": "stream",
     "text": [
      "['dentista', 'cientista de dados', 'contador', 'advogado', 'médico', 'fisioterapeuta', 'cientista da computação']\n",
      "Conferindo o tipo:  <class 'list'>\n",
      "O tamanho da lista é:  7\n"
     ]
    }
   ],
   "source": [
    "profissoes = ['dentista', 'cientista de dados', 'contador', 'advogado',\n",
    "             'médico', 'fisioterapeuta', 'cientista da computação']\n",
    "print(profissoes, end=\"\\n\")\n",
    "print('Conferindo o tipo: ', type(profissoes), end=\"\\n\")\n",
    "print('O tamanho da lista é: ', len(profissoes))"
   ]
  },
  {
   "cell_type": "markdown",
   "metadata": {},
   "source": [
    "### Acessando os elementos da lista  \n",
    "A sintaxe para acessar um elemento de uma lista é a mesma usada para acessar um caractere de um string.  \n",
    "Usamos o operador de indexação ( **lista[indice]** - retornando o elemento que está ocupando a posição informada).  \n",
    "A expressão dentro dos colchetes especifica o índice. Lembrar que o índice do primeiro elemento é 0.\n",
    ">Qualquer expressão que tenha como resultado um número inteiro pode ser usada como índice e como com strings, índices negativos indicarão elementos da direita para a esquerda ao invés de da esquerda para a direita."
   ]
  },
  {
   "cell_type": "code",
   "execution_count": 8,
   "metadata": {},
   "outputs": [
    {
     "name": "stdout",
     "output_type": "stream",
     "text": [
      "Refere-se ao segundo termo da lista (o de indice 1) : cientista de dados\n",
      "Refere-se ao ultimo termo da lista (o de indice -1) : cientista da computação\n"
     ]
    }
   ],
   "source": [
    "print('Refere-se ao segundo termo da lista (o de indice 1) :', profissoes[1], end='\\n')\n",
    "print('Refere-se ao ultimo termo da lista (o de indice -1) :', profissoes[-1], end='\\n')\n",
    "#É melhor usada em iterações, onde se deseja ter acesso sempre ao ultimo elemento"
   ]
  },
  {
   "cell_type": "markdown",
   "metadata": {},
   "source": [
    "## Pertinência em uma lista\n",
    "Podemos conferir se um elemento pertence a uma lista usando o método \" **in** \" ou \" **not in** \"."
   ]
  },
  {
   "cell_type": "code",
   "execution_count": 9,
   "metadata": {},
   "outputs": [
    {
     "data": {
      "text/plain": [
       "False"
      ]
     },
     "execution_count": 9,
     "metadata": {},
     "output_type": "execute_result"
    }
   ],
   "source": [
    "'professor' in profissoes"
   ]
  },
  {
   "cell_type": "markdown",
   "metadata": {},
   "source": [
    "## Concatenação e repetição\n",
    "Novamente, como com strings, o operador **+** concatena listas. Analogamente, o operador * repete os itens em uma lista um dado número de vezes.\n",
    ">Os elementos dentro da lista **podem ser repetidos**, já que são referenciados por indexação"
   ]
  },
  {
   "cell_type": "code",
   "execution_count": 19,
   "metadata": {},
   "outputs": [
    {
     "name": "stdout",
     "output_type": "stream",
     "text": [
      "['dentista', 'cientista de dados', 'contador', 'advogado', 'médico', 'fisioterapeuta', 'cientista da computação', 'professor', 'arquiteto', 'professor', 'arquiteto']\n",
      "\n",
      "Como foi apenas visualizada a concatenação, a lista profissoes se manteve original:  ['dentista', 'cientista de dados', 'contador', 'advogado', 'médico', 'fisioterapeuta', 'cientista da computação', 'professor', 'arquiteto']\n",
      "Agora profissoes foi concatenada e alterada:  ['dentista', 'cientista de dados', 'contador', 'advogado', 'médico', 'fisioterapeuta', 'cientista da computação', 'professor', 'arquiteto', 'professor', 'arquiteto']\n"
     ]
    }
   ],
   "source": [
    "print(profissoes +  [\"professor\", 'arquiteto'], end='\\n') #concatena mas não altera\n",
    "print('\\nComo foi apenas visualizada a concatenação, a lista profissoes se manteve original: ', profissoes, end='\\n')\n",
    "\n",
    "profissoes += [\"professor\", 'arquiteto'] # concatenando e ja atribuindo\n",
    "print('Agora profissoes foi concatenada e alterada: ', profissoes)"
   ]
  },
  {
   "cell_type": "markdown",
   "metadata": {},
   "source": [
    "## Fatias de listas\n",
    "A operação de fatiar (slice) que vimos com strings também pode ser aplicada sobre listas.  \n",
    ">Lembre que o primeiro índice indica o ponto do início da fatia e o segundo índice é um depois do final da fatia (o elemento com esse índice não faz parte da fatia).\n",
    ">>Pense dessa forma:  \n",
    ">>>lista[ **fatia daqui** : **até aqui** ]  \n",
    "lista[ : **até aqui** ]  \n",
    "lista[ **fatia daqui em diante** : ]"
   ]
  },
  {
   "cell_type": "code",
   "execution_count": 20,
   "metadata": {},
   "outputs": [
    {
     "name": "stdout",
     "output_type": "stream",
     "text": [
      "['b', 'c']\n",
      "['a', 'b', 'c', 'd']\n",
      "['d', 'e', 'f']\n",
      "['a', 'b', 'c', 'd', 'e', 'f']\n"
     ]
    }
   ],
   "source": [
    "uma_lista = ['a', 'b', 'c', 'd', 'e', 'f']\n",
    "print(uma_lista[1:3])\n",
    "print(uma_lista[:4]) \n",
    "print(uma_lista[3:])\n",
    "print(uma_lista[:])\n"
   ]
  },
  {
   "cell_type": "markdown",
   "metadata": {},
   "source": [
    "## Listas são **mutáveis**  \n",
    "Uma atribuição a um elemento de uma lista é chamada de atribuição a um item (item assignment). Atribuição a itens não funciona com strings. Lembre-se que strings são imutáveis.  \n",
    "Podemos alterar um item em uma lista acessando-o diretamente como parte do comando de atribuição. Usando o operador de indexação (colchetes) à esquerda de um comando de atribuição, podemos **atualizar** um dos itens de uma lista."
   ]
  },
  {
   "cell_type": "code",
   "execution_count": 22,
   "metadata": {},
   "outputs": [
    {
     "name": "stdout",
     "output_type": "stream",
     "text": [
      "O elemento de index 0 foi atualizado para \"A\" :\n",
      " ['A', 'b', 'c', 'd', 'e', 'f']\n"
     ]
    }
   ],
   "source": [
    "uma_lista[0] = 'A'\n",
    "print('O elemento de index 0 foi atualizado para \"A\" :\\n', uma_lista)"
   ]
  },
  {
   "cell_type": "markdown",
   "metadata": {},
   "source": [
    "## Apagando um elemento específico de uma lista  \n",
    "O comando \"del\" apaga o elemento a ser especificado ( del lista[indice] ).  \n",
    "Pode ser usado numeros negativos para percorrer a lista no sentido inverso.  \n",
    "Acusa erro se o index não constar na lista."
   ]
  },
  {
   "cell_type": "code",
   "execution_count": 24,
   "metadata": {},
   "outputs": [
    {
     "name": "stdout",
     "output_type": "stream",
     "text": [
      "['A', 'd', 'e', 'f']\n"
     ]
    }
   ],
   "source": [
    "del uma_lista[1] # Removido o segundo elemento (de index 1)\n",
    "print(uma_lista)"
   ]
  },
  {
   "cell_type": "code",
   "execution_count": null,
   "metadata": {},
   "outputs": [],
   "source": []
  }
 ],
 "metadata": {
  "interpreter": {
   "hash": "ba5878b7676dd9f9680cf155c8752a6ee671b54705d86e19b689f9e7133f07de"
  },
  "kernelspec": {
   "display_name": "Python 3.9.7 ('base')",
   "language": "python",
   "name": "python3"
  },
  "language_info": {
   "codemirror_mode": {
    "name": "ipython",
    "version": 3
   },
   "file_extension": ".py",
   "mimetype": "text/x-python",
   "name": "python",
   "nbconvert_exporter": "python",
   "pygments_lexer": "ipython3",
   "version": "3.9.7"
  },
  "orig_nbformat": 4
 },
 "nbformat": 4,
 "nbformat_minor": 2
}
