{
 "cells": [
  {
   "cell_type": "markdown",
   "metadata": {},
   "source": [
    "#   LIST - lista  \n",
    "Uma lista é uma estrutura de dados composta por itens organizados de forma linear, na qual cada um pode ser acessado a partir de um **índice**, que representa sua posição na coleção (iniciando em zero).  \n",
    "Os valores que formam uma lista são chamados elementos ou itens.  \n",
    "Listas são similares a strings, que são uma sequência de caracteres, no entanto, diferentemente de strings, os itens de uma lista podem ser de tipos diferentes."
   ]
  },
  {
   "cell_type": "markdown",
   "metadata": {},
   "source": [
    "##  Formas de criar uma lista  \n",
    "* Através do operador \" [ ] \" - criamos uma lista vazia.  \n",
    "* Inserindo valores diretamente dentro do operador - [1, 3, 5, 7]  \n",
    "* Fazendo ***comprehensions*** - [x for x in iteravel if x...]  \n"
   ]
  },
  {
   "cell_type": "code",
   "execution_count": 1,
   "metadata": {},
   "outputs": [
    {
     "name": "stdout",
     "output_type": "stream",
     "text": [
      "['dentista', 'cientista de dados', 'contador', 'advogado', 'médico', 'fisioterapeuta', 'cientista da computação']\n",
      "Conferindo o tipo:  <class 'list'>\n",
      "O tamanho da lista é:  7\n"
     ]
    }
   ],
   "source": [
    "profissoes = ['dentista', 'cientista de dados', 'contador', 'advogado',\n",
    "             'médico', 'fisioterapeuta', 'cientista da computação']\n",
    "print(profissoes, end=\"\\n\")\n",
    "print('Conferindo o tipo: ', type(profissoes), end=\"\\n\")\n",
    "print('O tamanho da lista é: ', len(profissoes))"
   ]
  },
  {
   "cell_type": "markdown",
   "metadata": {},
   "source": [
    "### Acessando os elementos da lista  \n",
    "A sintaxe para acessar um elemento de uma lista é a mesma usada para acessar um caractere de um string.  \n",
    "Usamos o operador de indexação ( **lista[indice]** - retornando o elemento que está ocupando a posição informada).  \n",
    "A expressão dentro dos colchetes especifica o índice. Lembrar que o índice do primeiro elemento é 0.\n",
    ">Qualquer expressão que tenha como resultado um número inteiro pode ser usada como índice e como com strings, índices negativos indicarão elementos da direita para a esquerda ao invés de da esquerda para a direita."
   ]
  },
  {
   "cell_type": "code",
   "execution_count": 2,
   "metadata": {},
   "outputs": [
    {
     "name": "stdout",
     "output_type": "stream",
     "text": [
      "Refere-se ao segundo termo da lista (o de indice 1) : cientista de dados\n",
      "Refere-se ao ultimo termo da lista (o de indice -1) : cientista da computação\n"
     ]
    }
   ],
   "source": [
    "print('Refere-se ao segundo termo da lista (o de indice 1) :', profissoes[1], end='\\n')\n",
    "print('Refere-se ao ultimo termo da lista (o de indice -1) :', profissoes[-1], end='\\n')\n",
    "#É melhor usada em iterações, onde se deseja ter acesso sempre ao ultimo elemento"
   ]
  },
  {
   "cell_type": "markdown",
   "metadata": {},
   "source": [
    "## Pertinência em uma lista\n",
    "Podemos conferir se um elemento pertence a uma lista usando o método \" **in** \" ou \" **not in** \"."
   ]
  },
  {
   "cell_type": "code",
   "execution_count": 3,
   "metadata": {},
   "outputs": [
    {
     "data": {
      "text/plain": [
       "False"
      ]
     },
     "execution_count": 3,
     "metadata": {},
     "output_type": "execute_result"
    }
   ],
   "source": [
    "'professor' in profissoes"
   ]
  },
  {
   "cell_type": "markdown",
   "metadata": {},
   "source": [
    "## Concatenação e repetição\n",
    "Novamente, como com strings, o operador **+** concatena listas. Analogamente, o operador * repete os itens em uma lista um dado número de vezes.\n",
    ">Os elementos dentro da lista **podem ser repetidos**, já que são referenciados por indexação"
   ]
  },
  {
   "cell_type": "code",
   "execution_count": 4,
   "metadata": {},
   "outputs": [
    {
     "name": "stdout",
     "output_type": "stream",
     "text": [
      "['dentista', 'cientista de dados', 'contador', 'advogado', 'médico', 'fisioterapeuta', 'cientista da computação', 'professor', 'arquiteto']\n",
      "\n",
      "Como foi apenas visualizada a concatenação, a lista profissoes se manteve original:  ['dentista', 'cientista de dados', 'contador', 'advogado', 'médico', 'fisioterapeuta', 'cientista da computação']\n",
      "Agora profissoes foi concatenada e alterada:  ['dentista', 'cientista de dados', 'contador', 'advogado', 'médico', 'fisioterapeuta', 'cientista da computação', 'professor', 'arquiteto']\n"
     ]
    }
   ],
   "source": [
    "print(profissoes +  [\"professor\", 'arquiteto'], end='\\n') #concatena mas não altera\n",
    "print('\\nComo foi apenas visualizada a concatenação, a lista profissoes se manteve original: ', profissoes, end='\\n')\n",
    "\n",
    "profissoes += [\"professor\", 'arquiteto'] # concatenando e ja atribuindo\n",
    "print('Agora profissoes foi concatenada e alterada: ', profissoes)"
   ]
  },
  {
   "cell_type": "markdown",
   "metadata": {},
   "source": [
    "## Fatias de listas\n",
    "A operação de fatiar (slice) que vimos com strings também pode ser aplicada sobre listas.  \n",
    ">Lembre que o primeiro índice indica o ponto do início da fatia e o segundo índice é um depois do final da fatia (o elemento com esse índice não faz parte da fatia).\n",
    ">>Pense dessa forma:  \n",
    ">>>lista[ **fatia daqui** : **até aqui** ]  \n",
    "lista[ : **até aqui** ]  \n",
    "lista[ **fatia daqui em diante** : ]"
   ]
  },
  {
   "cell_type": "code",
   "execution_count": 5,
   "metadata": {},
   "outputs": [
    {
     "name": "stdout",
     "output_type": "stream",
     "text": [
      "['b', 'c']\n",
      "['a', 'b', 'c', 'd']\n",
      "['d', 'e', 'f']\n",
      "['a', 'b', 'c', 'd', 'e', 'f']\n"
     ]
    }
   ],
   "source": [
    "uma_lista = ['a', 'b', 'c', 'd', 'e', 'f']\n",
    "print(uma_lista[1:3])\n",
    "print(uma_lista[:4]) \n",
    "print(uma_lista[3:])\n",
    "print(uma_lista[:])\n"
   ]
  },
  {
   "cell_type": "markdown",
   "metadata": {},
   "source": [
    "## Listas são **mutáveis**  \n",
    "Uma atribuição a um elemento de uma lista é chamada de atribuição a um item (item assignment). Atribuição a itens não funciona com strings. Lembre-se que strings são imutáveis.  \n",
    "Podemos alterar um item em uma lista acessando-o diretamente como parte do comando de atribuição. Usando o operador de indexação (colchetes) à esquerda de um comando de atribuição, podemos **atualizar** um dos itens de uma lista."
   ]
  },
  {
   "cell_type": "code",
   "execution_count": 6,
   "metadata": {},
   "outputs": [
    {
     "name": "stdout",
     "output_type": "stream",
     "text": [
      "O elemento de index 0 foi atualizado para \"A\" :\n",
      " ['A', 'b', 'c', 'd', 'e', 'f']\n"
     ]
    }
   ],
   "source": [
    "uma_lista[0] = 'A'\n",
    "print('O elemento de index 0 foi atualizado para \"A\" :\\n', uma_lista)"
   ]
  },
  {
   "cell_type": "markdown",
   "metadata": {},
   "source": [
    "## Apagando um elemento específico de uma lista  \n",
    "O comando \"del\" apaga o elemento a ser especificado ( del lista[indice] ).  \n",
    "Pode ser usado numeros negativos para percorrer a lista no sentido inverso.  \n",
    "Acusa erro se o index não constar na lista."
   ]
  },
  {
   "cell_type": "code",
   "execution_count": 7,
   "metadata": {},
   "outputs": [
    {
     "name": "stdout",
     "output_type": "stream",
     "text": [
      "['A', 'c', 'd', 'e', 'f']\n"
     ]
    }
   ],
   "source": [
    "del uma_lista[1] # Removido o segundo elemento (de index 1)\n",
    "print(uma_lista)"
   ]
  },
  {
   "cell_type": "markdown",
   "metadata": {},
   "source": [
    "## Objetos e Referências  \n",
    "Duas strings iguais, em python referenciam o mesmo objeto. Como strings são **imutáveis** (immutable), Python optimiza recursos fazendo com que os dois que se refiram ao mesmo string se referam ao mesmo objeto.\n",
    ">Podemos conferir isso usando o \" is \"."
   ]
  },
  {
   "cell_type": "code",
   "execution_count": 8,
   "metadata": {},
   "outputs": [
    {
     "name": "stdout",
     "output_type": "stream",
     "text": [
      "True\n"
     ]
    }
   ],
   "source": [
    "a = 'professor'\n",
    "b = 'professor'\n",
    "print(a is b)"
   ]
  },
  {
   "cell_type": "code",
   "execution_count": 9,
   "metadata": {},
   "outputs": [
    {
     "name": "stdout",
     "output_type": "stream",
     "text": [
      "True\n"
     ]
    }
   ],
   "source": [
    "# até letras repetidas dentro da mesma string são consideradas iguais\n",
    "print(a[5] is a[6]) # referem-se ao 'ss' de professor"
   ]
  },
  {
   "cell_type": "markdown",
   "metadata": {},
   "source": [
    "#### **Com listas isso não acontece...**  \n",
    "Os elementos da lista podem ser iguais **individualmente** quando referenciados diretamente, mas a lista como um todo NÃO, mesmo que contenha todos os elementos iguais."
   ]
  },
  {
   "cell_type": "code",
   "execution_count": 10,
   "metadata": {},
   "outputs": [
    {
     "name": "stdout",
     "output_type": "stream",
     "text": [
      "\"uma_lista\" é o mesmo que \"outra_lista\"?\n",
      " False\n"
     ]
    }
   ],
   "source": [
    "uma_lista = ['a', 'b', 'c', 'ff', 4] # (1, 2), [2, 3]] \n",
    "outra_lista = ['a', 'b', 'c', 'ff', 4] # (1, 2), [2, 3]]\n",
    "\n",
    "#caso eu insira elementos mutáveis dentro da lista, a comparação desses será False\n",
    "print('\"uma_lista\" é o mesmo que \"outra_lista\"?\\n',uma_lista is outra_lista)"
   ]
  },
  {
   "cell_type": "code",
   "execution_count": 11,
   "metadata": {},
   "outputs": [],
   "source": [
    "def comparar_elementos_lista(lista1, lista2):\n",
    "    i = 0\n",
    "    resultado = []\n",
    "    if len(lista1) == len(lista2):\n",
    "        while lista1:\n",
    "            print(f'O elemento \"{lista1[i]}\" de ambas é igual: ', lista1[i] is lista2[i], '\\n\\tsão do tipo: ', type(lista1[i]), end='\\n')    \n",
    "            resultado.append(lista1[i] is lista2[i])\n",
    "            if i > len(lista1)-2:\n",
    "                break\n",
    "            else:\n",
    "                i += 1\n",
    "        print('Todos os elementos são iguais?\\n', all(resultado))"
   ]
  },
  {
   "cell_type": "code",
   "execution_count": 12,
   "metadata": {},
   "outputs": [
    {
     "name": "stdout",
     "output_type": "stream",
     "text": [
      "O elemento \"a\" de ambas é igual:  True \n",
      "\tsão do tipo:  <class 'str'>\n",
      "O elemento \"b\" de ambas é igual:  True \n",
      "\tsão do tipo:  <class 'str'>\n",
      "O elemento \"c\" de ambas é igual:  True \n",
      "\tsão do tipo:  <class 'str'>\n",
      "O elemento \"ff\" de ambas é igual:  True \n",
      "\tsão do tipo:  <class 'str'>\n",
      "O elemento \"4\" de ambas é igual:  True \n",
      "\tsão do tipo:  <class 'int'>\n",
      "Todos os elementos são iguais?\n",
      " True\n"
     ]
    }
   ],
   "source": [
    "comparar_elementos_lista(uma_lista, outra_lista)"
   ]
  },
  {
   "cell_type": "markdown",
   "metadata": {},
   "source": [
    "Significa que os elementos em listas distintas, podem ter o mesmo valor mas **não se referem ao mesmo objeto**.  \n",
    "> O valor \"uma_lista\" é uma referência a uma coleção de referências (collection of references).  \n",
    "Essas referências na realidade se referem a valores inteiros em uma lista. Em outras palavras, um lista é uma coleção de referências para objetos.  \n",
    ">>É interessante que apesar de \"uma_lista\" e \"outra_lista\" serem duas listas distintas (duas coleções de diferentes referências), o objeto inteiro \"4\" é compartilhado por ambos. Assim como strings, inteiros são também imutáveis portanto Python optimiza e permite que todos compartilhem o mesmo objeto."
   ]
  },
  {
   "cell_type": "markdown",
   "metadata": {},
   "source": [
    "### Aliasing - apelido ou copia rasa  \n",
    "Neste caso, listas podem ter nomes diferentes e se referirem ao mesmo ojeto."
   ]
  },
  {
   "cell_type": "code",
   "execution_count": 13,
   "metadata": {},
   "outputs": [
    {
     "name": "stdout",
     "output_type": "stream",
     "text": [
      "\"uma_lista\" é o mesmo que \"alias_lista\"?\n",
      " True\n",
      "uma_lista:\n",
      " ['a', 'b', 'c', 'ff', 4]\n",
      "alias_lista:\n",
      " ['a', 'b', 'c', 'ff', 4]\n"
     ]
    }
   ],
   "source": [
    "alias_lista = uma_lista\n",
    "print('\"uma_lista\" é o mesmo que \"alias_lista\"?\\n',uma_lista is alias_lista)\n",
    "print('uma_lista:\\n', uma_lista)\n",
    "print('alias_lista:\\n', alias_lista)"
   ]
  },
  {
   "cell_type": "code",
   "execution_count": 14,
   "metadata": {},
   "outputs": [
    {
     "name": "stdout",
     "output_type": "stream",
     "text": [
      "uma_lista:\n",
      " ['rua', 'a', 'b', 'c', 'ff', 4]\n",
      "alias_lista:\n",
      " ['rua', 'a', 'b', 'c', 'ff', 4]\n"
     ]
    }
   ],
   "source": [
    "uma_lista.insert(0, 'rua')\n",
    "# mas o que se faz em uma reflete na outra\n",
    "print('uma_lista:\\n', uma_lista)\n",
    "print('alias_lista:\\n', alias_lista)"
   ]
  },
  {
   "cell_type": "markdown",
   "metadata": {},
   "source": [
    "Em geral, é mais seguro evitar apelidos (aliasing) quando você está trabalhando com objetos mutáveis. É evidente que com objetos imutáveis não há problema. Por isto, Python é livre para usar apelidos (alias) de strings e inteiros quando surge uma oportunidade para economizar espaço."
   ]
  },
  {
   "cell_type": "markdown",
   "metadata": {},
   "source": [
    "Pode-se dizer q \"uma_lista\" é igual a \"outra_lista\" **( uma_lista == outra_lista)**,  \n",
    "mas uma não é o mesmo que a outra **( uma_lista is not outra_lista)**."
   ]
  },
  {
   "cell_type": "markdown",
   "metadata": {},
   "source": [
    "### Clonando \n",
    "Clonando, a alteração em uma nao reflete na outra.  \n",
    "A maneira mais fácil de clonarmos uma lista é usar o operador de fatiação.\n",
    ">Quando atribuo uma fatia de uma lista, uma nova lista será criada e não apenas sua referencia."
   ]
  },
  {
   "cell_type": "code",
   "execution_count": 15,
   "metadata": {},
   "outputs": [
    {
     "name": "stdout",
     "output_type": "stream",
     "text": [
      "nova_lista ['rua', 'a', 'b', 'c', 'ff', 4]\n",
      "\"nova_lista\" é o mesmo que \"uma_lista\"?\n",
      "\t False\n",
      "nova_lista2 ['rua', 'a', 'b', 'c', 'ff', 4]\n",
      "\"nova_lista2\" é o mesmo que \"uma_lista\"?\n",
      "\t False\n"
     ]
    }
   ],
   "source": [
    "nova_lista = uma_lista[:]\n",
    "nova_lista2 = uma_lista.copy()\n",
    "\n",
    "print(\"nova_lista\", nova_lista, end=\"\\n\")\n",
    "print('\"nova_lista\" é o mesmo que \"uma_lista\"?\\n\\t',nova_lista is uma_lista)\n",
    "\n",
    "print(\"nova_lista2\", nova_lista2, end=\"\\n\")\n",
    "print('\"nova_lista2\" é o mesmo que \"uma_lista\"?\\n\\t',nova_lista2 is uma_lista)\n"
   ]
  }
 ],
 "metadata": {
  "interpreter": {
   "hash": "ba5878b7676dd9f9680cf155c8752a6ee671b54705d86e19b689f9e7133f07de"
  },
  "kernelspec": {
   "display_name": "Python 3.9.7 ('base')",
   "language": "python",
   "name": "python3"
  },
  "language_info": {
   "codemirror_mode": {
    "name": "ipython",
    "version": 3
   },
   "file_extension": ".py",
   "mimetype": "text/x-python",
   "name": "python",
   "nbconvert_exporter": "python",
   "pygments_lexer": "ipython3",
   "version": "3.9.7"
  },
  "orig_nbformat": 4
 },
 "nbformat": 4,
 "nbformat_minor": 2
}
