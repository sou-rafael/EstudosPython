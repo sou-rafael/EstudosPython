{
 "cells": [
  {
   "cell_type": "markdown",
   "metadata": {},
   "source": [
    "# SET - conjunto  \n",
    "Um conjunto é uma coleção desordenada de elementos, sem elementos repetidos.  \n",
    "Identificador: { ... , ... , ... }  \n",
    "Porém, para criar um conjunto vazio, deve-se usar set(), usando {} irá criar um dicionário vazio e não um conjunto.   \n",
    "OBS: Usos comuns para conjuntos incluem a verificação eficiente da existência de objetos e a eliminação de itens duplicados. \n",
    " "
   ]
  },
  {
   "cell_type": "markdown",
   "metadata": {},
   "source": [
    "Os sets são iteráveis (podemos acessar seus elementos um a um), e não são considerados sequências como as tuplas e as listas. Eles também não suportam indexação e slicing. Assim, os itens de um set são retornados em uma ordem diferente cada vez que acessamos o conjunto todo."
   ]
  },
  {
   "cell_type": "markdown",
   "metadata": {},
   "source": [
    "Eliminação de duplicatas:  \n",
    "Se tentarmos criar ou inserir dados duplicados em um conjunto, esta será automaticamente eliminada."
   ]
  },
  {
   "cell_type": "code",
   "execution_count": null,
   "metadata": {},
   "outputs": [],
   "source": [
    "#criando alguns conjuntos para estudo:\n",
    "frutas = {'banana', 'maçã', 'uva', 'pêra', 'manga', 'seriguela', 'cajú'}\n",
    "verduras = {'batata', 'cenoura', 'cebola', 'alface', 'pepino', 'repolho'}\n",
    "cesto = set()\n",
    "gosto_1 = {'uva', 'pêra', 'beterraba', 'alface'}"
   ]
  },
  {
   "cell_type": "markdown",
   "metadata": {},
   "source": [
    "Associação em um SET:  \n",
    "Podemos conferir se determinados elementos estão no conjunto (in) ou não (not in)"
   ]
  },
  {
   "cell_type": "code",
   "execution_count": null,
   "metadata": {},
   "outputs": [],
   "source": [
    "print('abóbora' in verduras) #False\n",
    "print('abóbora' not in verduras) #True"
   ]
  },
  {
   "cell_type": "markdown",
   "metadata": {},
   "source": [
    "Comparação de conjuntos"
   ]
  },
  {
   "cell_type": "markdown",
   "metadata": {},
   "source": [
    "Verificamos se dois conjuntos são iguais ou diferentes com os operadores == e !=  \n",
    "Com o operador < verificamos se o conjunto à esquerda é um SUBCONJUNTO PRÓPRIO do conjunto à direita do operador.\n",
    "Ou seja, se todos os elementos à esquerda estão no conjunto da direita, e os conjuntos NÃO SÃO iguais:"
   ]
  },
  {
   "cell_type": "code",
   "execution_count": null,
   "metadata": {},
   "outputs": [],
   "source": [
    "gosto_frutas = {'manga', 'uva', 'acerola'}\n",
    "print(gosto_frutas < frutas) # o lado do \"maior que\" é o que contém o subconjunto."
   ]
  },
  {
   "cell_type": "markdown",
   "metadata": {},
   "source": [
    "Já o operador <= verifica se o conjunto à esquerda é um SUBCONJUNTO IMPRÓPRIO do conjunto à direita do operador.\n",
    "Ou seja, verifica se todos os elementos à esquerda estão no conjunto da direita, e os conjuntos SÃO iguais:"
   ]
  },
  {
   "cell_type": "code",
   "execution_count": null,
   "metadata": {},
   "outputs": [],
   "source": [
    "gosto_verduras = verduras.copy()\n",
    "print(gosto_verduras <= verduras)\n",
    "# a ordem inversa se consegue com \">=\"\n",
    "print(gosto_verduras >= verduras)"
   ]
  },
  {
   "cell_type": "markdown",
   "metadata": {},
   "source": [
    "União e Intersecção:  \n",
    "podemos usar os operadores \" | \" e \" & \" respectivamente.  \n",
    "Também os métodos set1.union(set2) e set1.intersection(set2)."
   ]
  },
  {
   "cell_type": "code",
   "execution_count": null,
   "metadata": {},
   "outputs": [],
   "source": [
    "print(f'O cesto antes: {cesto}')\n",
    "gosto = gosto_frutas | gosto_verduras\n"
   ]
  },
  {
   "cell_type": "code",
   "execution_count": null,
   "metadata": {},
   "outputs": [],
   "source": [
    "mercado = frutas.union(verduras)\n",
    "print('O que tem no mercado:\\n', mercado)\n",
    "cesto = mercado.intersection(gosto)\n",
    "print('O cesto depois de colocar frutas e verduras do meu gosto que tenham no mercado: \\n', cesto)"
   ]
  },
  {
   "cell_type": "markdown",
   "metadata": {},
   "source": [
    "Diferença entre conjuntos:\n",
    "    \n",
    "usamos o operador \" - \"  \n",
    "ou o método \".difference()\""
   ]
  },
  {
   "cell_type": "code",
   "execution_count": null,
   "metadata": {},
   "outputs": [],
   "source": [
    "print('O que eu gosto que não tem no mercado:\\n', gosto.difference(mercado))"
   ]
  },
  {
   "cell_type": "markdown",
   "metadata": {},
   "source": [
    "Diferença Simétrica:  \n",
    "  \n",
    "A diferença simétrica entre dois conjuntos é um conjunto contendo os elementos de ambos os conjuntos que não são comuns um com o outro. Ou seja, apenas os itens não-repetidos.  \n",
    "Usamos o operador \" ^ \" ou o método \".symmetric_difference()\"."
   ]
  },
  {
   "cell_type": "code",
   "execution_count": null,
   "metadata": {},
   "outputs": [],
   "source": [
    "gosto.symmetric_difference(mercado)\n",
    "# é diferente do \"difference\" pq retorna elementos dos dois conjuntos"
   ]
  },
  {
   "cell_type": "markdown",
   "metadata": {},
   "source": [
    "Conjuntos Disjuntos  \n",
    "  \n",
    "Não possuem nenhum elemento em comum.  \n",
    "Checamos usando o método \".isdisjoint()\""
   ]
  },
  {
   "cell_type": "code",
   "execution_count": null,
   "metadata": {},
   "outputs": [],
   "source": [
    "print('gosto_1:\\n', gosto_1)\n",
    "print('gosto:\\n', gosto)\n",
    "\n",
    "gosto_1.isdisjoint(gosto) #retorna True apenas se forem TOTALMENTE diferentes"
   ]
  },
  {
   "cell_type": "markdown",
   "metadata": {},
   "source": [
    "Atribuição de União  \n",
    "  \n",
    "Realiza uma operação de união, porém modificando o operando à esquerda.  \n",
    "Operador |=  \n",
    "Método \".update()\""
   ]
  },
  {
   "cell_type": "code",
   "execution_count": null,
   "metadata": {},
   "outputs": [],
   "source": [
    "gosto_2 = {'manga', 'pêra'}\n",
    "print('gosto_2:\\n', gosto_2, '\\ngosto_1:\\n', gosto_1)\n",
    "\n",
    "gosto_2.update(gosto_1)\n",
    "print('\\nAcrescentando gosto_1 ao gosto_2, este fica assim:\\n gosto_2=\\n', gosto_2)\n"
   ]
  },
  {
   "cell_type": "markdown",
   "metadata": {},
   "source": [
    "Outros métodos de atribuição especial incluem:\n",
    "\n",
    "* Intersecção aumentada: operador \" &= \" ou método \".intersection_update()\"\n",
    "* Diferença aumentada: operador \" -= \" ou método \".difference_update()\"\n",
    "* Diferença simétrica aumentada: operador \" ^= \" ou método \".symmetric_difference_update()\""
   ]
  },
  {
   "cell_type": "code",
   "execution_count": null,
   "metadata": {},
   "outputs": [],
   "source": [
    "#INTERSECÇÃO AUMENTADA\n",
    "print('gosto_2:\\n', gosto_2, '\\ngosto_1:\\n', gosto_1)\n",
    "\n",
    "gosto_2.intersection_update(gosto_1)\n",
    "print('\\nFazendo a intersecção aumentada de gosto_1 ao gosto_2, este fica assim:\\ngosto_2=\\n', gosto_2)"
   ]
  },
  {
   "cell_type": "code",
   "execution_count": null,
   "metadata": {},
   "outputs": [],
   "source": [
    "#DIFERENÇA AUMENTADA\n",
    "print('gosto_2:\\n', gosto_2, '\\ngosto_1:\\n', gosto_1)\n",
    "\n",
    "gosto_2 -= gosto_1\n",
    "#gosto_2.difference.update(gosto_1)\n",
    "print('\\nFazendo a diferença aumentada de gosto_1 ao gosto_2, este fica assim:\\ngosto_2=\\n', gosto_2)\n",
    "#"
   ]
  },
  {
   "cell_type": "code",
   "execution_count": null,
   "metadata": {},
   "outputs": [],
   "source": [
    "#DIFERENÇA SIMÉTRICA AUMENTADA\n",
    "print('gosto_2:\\n', gosto_2, '\\ngosto_1:\\n', gosto_1)\n",
    "\n",
    "gosto_2 ^= gosto_1\n",
    "#gosto_2.simmetric_difference_update(gosto_1)\n",
    "print('\\nFazendo a diferença simetrica aumentada de gosto_1 ao gosto_2, este fica assim:\\ngosto_2=\\n', gosto_2)"
   ]
  },
  {
   "cell_type": "markdown",
   "metadata": {},
   "source": [
    "Adicionar e Remover elementos de conjuntos  \n",
    "  \n",
    "Métodos add(), remove() e discard()."
   ]
  },
  {
   "cell_type": "code",
   "execution_count": null,
   "metadata": {},
   "outputs": [],
   "source": [
    "frutas_acidas = {'morango', 'laranja', 'limão', 'acerola', 'lima', 'graviola'}\n",
    "frutas_acidas.add('pitanga')\n",
    "print(frutas_acidas, end= '\\n')"
   ]
  },
  {
   "cell_type": "code",
   "execution_count": null,
   "metadata": {},
   "outputs": [],
   "source": [
    "frutas_acidas.remove('pitanga') # remove um termo específico, um argumento de cada vez"
   ]
  },
  {
   "cell_type": "code",
   "execution_count": null,
   "metadata": {},
   "outputs": [],
   "source": [
    "#frutas_acidas.remove('kiwi')\n",
    "# # retorna um erro (KEYERROR) se o argumento não estiver no conjunto"
   ]
  },
  {
   "cell_type": "code",
   "execution_count": null,
   "metadata": {},
   "outputs": [],
   "source": [
    "print(frutas_acidas.discard('kiwi')) # se tiver é removido, mas se nao tiver nao retorna erro!"
   ]
  },
  {
   "cell_type": "markdown",
   "metadata": {},
   "source": [
    "O método \".pop()\" remove e retorna um elemento ARBITRÁRIO, já que o conjunto não tem indexação  \n",
    "(na realidade, o elemento a ser removido é o primeiro... mas como não temos controle de qual elemento será colocado como primeiro, então nao controlamos qual termo será removido)"
   ]
  },
  {
   "cell_type": "code",
   "execution_count": null,
   "metadata": {},
   "outputs": [],
   "source": [
    "print(frutas_acidas, end='\\n')\n",
    "print(frutas_acidas.pop())\n",
    "print('depois do pop:\\n', frutas_acidas)"
   ]
  },
  {
   "cell_type": "code",
   "execution_count": null,
   "metadata": {},
   "outputs": [],
   "source": [
    "frutas_acidas.clear() # limpa todo o conjunto, deixando ele vazio\n",
    "print(frutas_acidas)"
   ]
  },
  {
   "cell_type": "markdown",
   "metadata": {},
   "source": [
    "#Frozensets  \n",
    "São sets 'congelados', isto é, os sets são mutáveis, mas os frozensets não são, eles são imutáveis (congelados)  \n",
    "Um set não pode conter outros sets como elementos  \n",
    "Um frozenset pode conter outros frozensets como elementos."
   ]
  },
  {
   "cell_type": "code",
   "execution_count": null,
   "metadata": {},
   "outputs": [],
   "source": [
    "frutas = {'banana', 'maçã', 'uva', 'pêra', 'manga', 'seriguela', 'cajú'}\n",
    "frutas_acidas = {'morango', 'laranja', 'limão', 'acerola', 'lima', 'graviola'}\n",
    "\n",
    "frozen_frutas = frozenset(frutas)\n",
    "frozen_frutas_acidas = frozenset(frutas_acidas)"
   ]
  },
  {
   "cell_type": "code",
   "execution_count": null,
   "metadata": {},
   "outputs": [],
   "source": [
    "#frozen_frutas.update(frozen_frutas_acidas) ## não aceita o método .update()\n",
    "frozen_frutas |= frozen_frutas_acidas ## mas aceita o OPERADOR de update \" |= \"\n",
    "print(len(frozen_frutas))\n",
    "print(len(frozen_frutas_acidas))\n",
    "print(frozen_frutas)"
   ]
  }
 ],
 "metadata": {
  "interpreter": {
   "hash": "ba5878b7676dd9f9680cf155c8752a6ee671b54705d86e19b689f9e7133f07de"
  },
  "kernelspec": {
   "display_name": "Python 3.9.7 ('base')",
   "language": "python",
   "name": "python3"
  },
  "language_info": {
   "codemirror_mode": {
    "name": "ipython",
    "version": 3
   },
   "file_extension": ".py",
   "mimetype": "text/x-python",
   "name": "python",
   "nbconvert_exporter": "python",
   "pygments_lexer": "ipython3",
   "version": "3.9.7"
  },
  "orig_nbformat": 4
 },
 "nbformat": 4,
 "nbformat_minor": 2
}
