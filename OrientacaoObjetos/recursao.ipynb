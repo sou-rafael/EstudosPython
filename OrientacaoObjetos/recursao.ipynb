{
 "cells": [
  {
   "cell_type": "markdown",
   "metadata": {},
   "source": [
    "# Recursão  \n",
    "Os algoritmos recursivos devem obedecer três leis importantes:\n",
    "\n",
    "* Um algoritmo recursivo deve possuir um caso base (base case).\n",
    "\n",
    "* Um algoritmo recursivo deve modificar o seu estado e se aproximar do caso base.\n",
    "\n",
    "* Um algoritmo recursivo deve chamar a si mesmo, recursivamente.\n",
    "\n",
    "Vamos olhar para cada uma dessas leis em detalhes e ver como foi usado no algoritmo somalista. Primeiro, um caso base é a condição que permite que o algoritmo termine a recursão. Um caso base é tipicamente um problema que é pequeno o suficiente para ser resolvido diretamente. No algoritmo somalista o caso base é uma lista de comprimento 1.\n",
    "\n",
    "Para obedecer a segunda lei, devemos providenciar uma mudança de estado que mova o algoritmo em direção ao caso base. Uma mudança de estado significa que parte dos dados que o algoritmo está usando são modificados. Geralmente os dados que representam nosso problema ficam menores de alguma forma. No algoritmo somalista nossa estrutura de dados primária é uma lista, por isso **devemos focar nossos esforços de mudança de estado na lista**. Como o caso base é uma lista de comprimento 1, uma progressão natural em direção ao caso base é encurtar a lista.  \n",
    "\n",
    "A última lei é que o algoritmo deve chamar a si mesmo. Esta é a própria definição de recursão. A recursão é um conceito confuso para muitos programadores iniciantes. Como um programador novato, você aprendeu que funções são boas porque permitem você pode pegar um problema grande e quebrá-lo em problemas menores. Os problemas menores podem ser resolvidos escrevendo uma função para resolver cada problema. Quando falamos de recursão, parece que estamos falando em círculos. Nós temos um problema para resolver com uma função, mas essa função resolve o problema chamando a si mesma! Mas a lógica não é circular de forma alguma; a lógica da recursão é uma expressão elegante de resolver um problema, dividindo-o em problemas menores e mais fáceis.\n"
   ]
  },
  {
   "cell_type": "code",
   "execution_count": 6,
   "metadata": {},
   "outputs": [
    {
     "name": "stdout",
     "output_type": "stream",
     "text": [
      "25\n"
     ]
    }
   ],
   "source": [
    "# SOMATÓRIA ITERATIVA\n",
    "def somalista(numeros):\n",
    "    soma = 0\n",
    "    for i in numeros:\n",
    "        soma = soma + i\n",
    "    return soma\n",
    "\n",
    "print(somalista([1,3,5,7,9]))"
   ]
  },
  {
   "cell_type": "markdown",
   "metadata": {},
   "source": [
    "Como podemos considerar essa ideia e aplicá-la em um programa em Python?  \n",
    "Primeiro vamos considerar o problema de soma em termos de listas em Python. Podemos dizer que a soma da lista numeros é a soma do primeiro elemento da lista (numeros[0]), e a soma dos números do resto da lista (numeros[1:]). Para escrever isso em forma funcional:  \n",
    ">somalista(numeros) = numeros[0] + somalista(numeros[1: ])"
   ]
  },
  {
   "cell_type": "code",
   "execution_count": 8,
   "metadata": {},
   "outputs": [
    {
     "name": "stdout",
     "output_type": "stream",
     "text": [
      "25\n"
     ]
    }
   ],
   "source": [
    "# SOMATÓRIA RECURSIVA\n",
    "def somalista2(numeros):\n",
    "   if len(numeros) == 1:\n",
    "        return numeros[0]       # É a forma de sair da recursão, isto é, vai terminar quando a lista tiver reduzida a 1 termo\n",
    "   else:\n",
    "        return numeros[0] + somalista2(numeros[1:]) # isso faz a função receber o proprio resultado\n",
    "\n",
    "print(somalista2([1,3,5,7,9]))"
   ]
  },
  {
   "cell_type": "markdown",
   "metadata": {},
   "source": [
    "#### Atividade : Coverter um inteiro para string em qualquer base  \n",
    "Converter um inteiro para uma string em alguma base entre binário e hexadecimal. Por exemplo, converta o inteiro 10 em uma string contendo sua representação em decimal como \"10\", ou para sua representação em binário como \"1010\". Embora existam muitos algoritmos para resolver este problema, incluindo o algoritmo discutido na seção sobre pilha, a formulação recursiva do problema é muito elegante.\n",
    "\n",
    "Vejamos um exemplo concreto usando a base 10 e o número 769. Suponha que tenhamos uma sequência de caracteres correspondente aos 10 primeiros dígitos, como tabelaConv = \"0123456789\". É fácil converter um número menor que 10 em uma string equivalente apenas olhando a tabela. Por exemplo, se o número for 9, a string será tabelaConv[9] ou \"9\". Se conseguirmos uma forma de quebrar o número 769 em seus três dígitos, 7, 6 e 9, a conversão para uma string é simples. Um número menor que 10 parece um bom caso base.\n",
    "\n",
    "Saber qual é o nosso caso base sugere que o algoritmo geral envolve três componentes:\n",
    "\n",
    "* Reduza o número original para uma série de números de um dígito.\n",
    "\n",
    "* Converta o dígito em uma string usando a tabelaConv.\n",
    "\n",
    "* Concatene as strings dos dígitos para formar o resultado final.\n",
    "\n",
    "O próximo passo é descobrir como mudar o estado e progredir em direção ao caso base. Como estamos trabalhando com um inteiro, vamos considerar quais operações matemáticas podem reduzir um número. Os candidatos mais prováveis ​​são divisão e subtração. Embora a subtração possa servir, não é claro o que devemos subtrair do que. A divisão inteira com resto nos dá uma direção clara. Vamos ver o que acontece se dividirmos um número pela base que estamos tentando converter.\n",
    "\n",
    "Usando divisão inteira para dividir 769 por 10, obtemos 76 com um resto de 9. Isso nos dá dois bons resultados. Primeiro, o resto é um número menor que a nossa base que pode ser convertida em uma string imediatamente usando a tabela. Em segundo lugar, obtemos um número menor que o nosso original, o que nos move em direção ao caso base de ter um único número menor que a nossa base. Agora nosso trabalho é converter 76 em uma string. Novamente vamos usar a divisão inteira mais o resto para obter os resultados 7 e 6 respectivamente. Finalmente, reduzimos o problema para converter 7, o que podemos fazer facilmente, uma vez que satisfaz a condição do caso base \"n < base\", onde \"base = 10\"."
   ]
  },
  {
   "cell_type": "code",
   "execution_count": 16,
   "metadata": {},
   "outputs": [
    {
     "name": "stdout",
     "output_type": "stream",
     "text": [
      "2BC\n"
     ]
    }
   ],
   "source": [
    "#usando recursão, convertendo de qualquer base\n",
    "def toStr(n,base):\n",
    "   convertString = \"0123456789ABCDEF\"\n",
    "   if n < base:\n",
    "      return convertString[n]\n",
    "   else:\n",
    "      return toStr(n//base,base) + convertString[n%base]\n",
    "\n",
    "print(toStr(700,16))"
   ]
  }
 ],
 "metadata": {
  "interpreter": {
   "hash": "ba5878b7676dd9f9680cf155c8752a6ee671b54705d86e19b689f9e7133f07de"
  },
  "kernelspec": {
   "display_name": "Python 3.9.7 ('base')",
   "language": "python",
   "name": "python3"
  },
  "language_info": {
   "codemirror_mode": {
    "name": "ipython",
    "version": 3
   },
   "file_extension": ".py",
   "mimetype": "text/x-python",
   "name": "python",
   "nbconvert_exporter": "python",
   "pygments_lexer": "ipython3",
   "version": "3.9.7"
  },
  "orig_nbformat": 4
 },
 "nbformat": 4,
 "nbformat_minor": 2
}
