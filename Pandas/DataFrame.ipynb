{
 "cells": [
  {
   "cell_type": "markdown",
   "metadata": {},
   "source": [
    "## Séries e Dataframes Pandas  \n",
    "**Series** nada mais é que um array de 1 dimensão. Você pode considerar um Series também como uma coluna de uma tabela.  \n",
    "  \n",
    "  \n",
    "Um **DataFrame** é simplesmente um conjunto de Series. Trata-se de uma estrutura de dados de 2 dimensões — colunas e linhas — que transforma os dados em uma tabela."
   ]
  },
  {
   "cell_type": "markdown",
   "metadata": {},
   "source": [
    "#### Criando um dataframe  \n",
    "Existem diversas formas, abaixo mostrarei como criar a partir de um dicionário onde as chaves serão as colunas e os valores serão as linhas de cada coluna  \n",
    ">Usualmente cria-se um data set importanto os dados que geralmente estão em formato \"csv\", ou \"excel\". Para isso usamos um método do pandas, que pode ser \"**pd.read_csv( nome_do_arquivo.csv )**\" ou \"**pd.read_excel( nome_do_arquivo.xlsx, *planilha_opcional* )**\"  \n",
    ">>Escrever (**SALVAR**) um arquivo csv: **pd.to_csv(nome do aquivo)**"
   ]
  },
  {
   "cell_type": "code",
   "execution_count": 52,
   "metadata": {},
   "outputs": [],
   "source": [
    "import pandas as pd"
   ]
  },
  {
   "cell_type": "code",
   "execution_count": 53,
   "metadata": {},
   "outputs": [
    {
     "name": "stdout",
     "output_type": "stream",
     "text": [
      "      País     Capital  População\n",
      "0  Bélgica    Bruxelas     123465\n",
      "1    Índia  Nova Delhi     456789\n",
      "2   Brasil    Brasília     987654\n",
      "<class 'pandas.core.frame.DataFrame'>\n"
     ]
    }
   ],
   "source": [
    "data = {\n",
    "'País': ['Bélgica', 'Índia', 'Brasil'],\n",
    "'Capital': ['Bruxelas', 'Nova Delhi', 'Brasília'],\n",
    "'População': [123465, 456789, 987654]\n",
    "}\n",
    "\n",
    "# Agora criaremos o dataframe com o metodo pd.DataFrame --- atenção para os maiúsculos\n",
    "df = pd.DataFrame(data, columns=['País','Capital','População'])\n",
    "print(df, end = '\\n')\n",
    "print(type(df))"
   ]
  },
  {
   "cell_type": "markdown",
   "metadata": {},
   "source": [
    "### Removendo linhas e colunas  \n",
    "Função .drop()  \n",
    ">LINHAS pelo index:   df.drop( [ 0, 1 ] )  \n",
    "COLUNAS com o argumento **axis = 1**: df.drop( 'País', axis = 1 )\n",
    ">> **axis** - refere-se ao eixo que será usado com referencia **axis 0** é o eixo X, e **axis 1** é o Y.  \n",
    "Por default axis = 0, isto é, quando não passamos explicitamente esse parametro, a função usa axis = 0\n"
   ]
  },
  {
   "cell_type": "markdown",
   "metadata": {},
   "source": [
    "## Informações básicas de um DataFrame"
   ]
  },
  {
   "cell_type": "markdown",
   "metadata": {},
   "source": [
    "Quantidade de linhas e colunas do DataFrame\n",
    ">df.shape  \n",
    "  \n",
    "Descrição do Index\n",
    "> df.index  \n",
    "  \n",
    "Colunas presentes no DataFrame\n",
    "> df.columns  \n",
    "  \n",
    "\n",
    "Contagem de linhas com dados não-nulos de cada coluna\n",
    "> df.count()"
   ]
  },
  {
   "cell_type": "code",
   "execution_count": 54,
   "metadata": {},
   "outputs": [
    {
     "data": {
      "text/plain": [
       "País         3\n",
       "Capital      3\n",
       "População    3\n",
       "dtype: int64"
      ]
     },
     "execution_count": 54,
     "metadata": {},
     "output_type": "execute_result"
    }
   ],
   "source": [
    "df.count()"
   ]
  },
  {
   "cell_type": "markdown",
   "metadata": {},
   "source": [
    "#### Resumo dos dados:  \n",
    "Soma dos valores de um DataFrame\n",
    "> df.sum()  \n",
    "\n",
    "Menor valor de um DataFrame\n",
    "> df.min()  \n",
    "\n",
    "Maior valor\n",
    "> df.max()  \n",
    "\n",
    "\n",
    "Resumo estatístico do DataFrame, com quartis, mediana, etc.\n",
    "> df.describe()  \n",
    ">> Atenção se for usada em colunas categóricas, serão apresentados informações como frequencia, valores unicos etc\n",
    "\n",
    "Média dos valores\n",
    "> df.mean()  \n",
    "\n",
    "Mediana dos valores\n",
    "> df.median()"
   ]
  },
  {
   "cell_type": "code",
   "execution_count": 55,
   "metadata": {},
   "outputs": [
    {
     "data": {
      "text/plain": [
       "count           3\n",
       "unique          3\n",
       "top       Bélgica\n",
       "freq            1\n",
       "Name: País, dtype: object"
      ]
     },
     "execution_count": 55,
     "metadata": {},
     "output_type": "execute_result"
    }
   ],
   "source": [
    "df['País'].describe()"
   ]
  },
  {
   "cell_type": "code",
   "execution_count": 56,
   "metadata": {},
   "outputs": [
    {
     "data": {
      "text/plain": [
       "País              Índia\n",
       "Capital      Nova Delhi\n",
       "População        987654\n",
       "dtype: object"
      ]
     },
     "execution_count": 56,
     "metadata": {},
     "output_type": "execute_result"
    }
   ],
   "source": [
    "df.max()"
   ]
  },
  {
   "cell_type": "markdown",
   "metadata": {},
   "source": [
    "#### Aplicando funções  \n",
    "Usamos a função \" .aplly( ) \" passando como parametro a função a ser rodada.  \n",
    "\n",
    ">Exemplo: aplicando uma função que substitui Brasil por BRA"
   ]
  },
  {
   "cell_type": "code",
   "execution_count": 57,
   "metadata": {},
   "outputs": [
    {
     "data": {
      "text/html": [
       "<div>\n",
       "<style scoped>\n",
       "    .dataframe tbody tr th:only-of-type {\n",
       "        vertical-align: middle;\n",
       "    }\n",
       "\n",
       "    .dataframe tbody tr th {\n",
       "        vertical-align: top;\n",
       "    }\n",
       "\n",
       "    .dataframe thead th {\n",
       "        text-align: right;\n",
       "    }\n",
       "</style>\n",
       "<table border=\"1\" class=\"dataframe\">\n",
       "  <thead>\n",
       "    <tr style=\"text-align: right;\">\n",
       "      <th></th>\n",
       "      <th>País</th>\n",
       "      <th>Capital</th>\n",
       "      <th>População</th>\n",
       "    </tr>\n",
       "  </thead>\n",
       "  <tbody>\n",
       "    <tr>\n",
       "      <th>0</th>\n",
       "      <td>Bélgica</td>\n",
       "      <td>Bruxelas</td>\n",
       "      <td>123465</td>\n",
       "    </tr>\n",
       "    <tr>\n",
       "      <th>1</th>\n",
       "      <td>Índia</td>\n",
       "      <td>Nova Delhi</td>\n",
       "      <td>456789</td>\n",
       "    </tr>\n",
       "    <tr>\n",
       "      <th>2</th>\n",
       "      <td>BRA</td>\n",
       "      <td>Brasília</td>\n",
       "      <td>987654</td>\n",
       "    </tr>\n",
       "  </tbody>\n",
       "</table>\n",
       "</div>"
      ],
      "text/plain": [
       "      País     Capital  População\n",
       "0  Bélgica    Bruxelas     123465\n",
       "1    Índia  Nova Delhi     456789\n",
       "2      BRA    Brasília     987654"
      ]
     },
     "execution_count": 57,
     "metadata": {},
     "output_type": "execute_result"
    }
   ],
   "source": [
    "df.apply(lambda x: x.replace('Brasil', 'BRA'))\n",
    "# df.replace(original, novo) - substitui apenas os dados, nao se aplica a coluna"
   ]
  },
  {
   "cell_type": "code",
   "execution_count": 58,
   "metadata": {},
   "outputs": [
    {
     "data": {
      "text/html": [
       "<div>\n",
       "<style scoped>\n",
       "    .dataframe tbody tr th:only-of-type {\n",
       "        vertical-align: middle;\n",
       "    }\n",
       "\n",
       "    .dataframe tbody tr th {\n",
       "        vertical-align: top;\n",
       "    }\n",
       "\n",
       "    .dataframe thead th {\n",
       "        text-align: right;\n",
       "    }\n",
       "</style>\n",
       "<table border=\"1\" class=\"dataframe\">\n",
       "  <thead>\n",
       "    <tr style=\"text-align: right;\">\n",
       "      <th></th>\n",
       "      <th>País</th>\n",
       "      <th>Capital</th>\n",
       "      <th>População</th>\n",
       "    </tr>\n",
       "  </thead>\n",
       "  <tbody>\n",
       "    <tr>\n",
       "      <th>0</th>\n",
       "      <td>Bélgica</td>\n",
       "      <td>Bruxelas</td>\n",
       "      <td>123465</td>\n",
       "    </tr>\n",
       "    <tr>\n",
       "      <th>1</th>\n",
       "      <td>Índia</td>\n",
       "      <td>Nova Delhi</td>\n",
       "      <td>456789</td>\n",
       "    </tr>\n",
       "    <tr>\n",
       "      <th>2</th>\n",
       "      <td>Brasil</td>\n",
       "      <td>Brasília</td>\n",
       "      <td>987654</td>\n",
       "    </tr>\n",
       "  </tbody>\n",
       "</table>\n",
       "</div>"
      ],
      "text/plain": [
       "      País     Capital  População\n",
       "0  Bélgica    Bruxelas     123465\n",
       "1    Índia  Nova Delhi     456789\n",
       "2   Brasil    Brasília     987654"
      ]
     },
     "execution_count": 58,
     "metadata": {},
     "output_type": "execute_result"
    }
   ],
   "source": [
    "df"
   ]
  },
  {
   "cell_type": "markdown",
   "metadata": {},
   "source": [
    "Ordenando o dataframe por uma determinada coluna:  \n",
    "> .sort_values( by = coluna, ascending = True)"
   ]
  },
  {
   "cell_type": "code",
   "execution_count": 59,
   "metadata": {},
   "outputs": [
    {
     "data": {
      "text/html": [
       "<div>\n",
       "<style scoped>\n",
       "    .dataframe tbody tr th:only-of-type {\n",
       "        vertical-align: middle;\n",
       "    }\n",
       "\n",
       "    .dataframe tbody tr th {\n",
       "        vertical-align: top;\n",
       "    }\n",
       "\n",
       "    .dataframe thead th {\n",
       "        text-align: right;\n",
       "    }\n",
       "</style>\n",
       "<table border=\"1\" class=\"dataframe\">\n",
       "  <thead>\n",
       "    <tr style=\"text-align: right;\">\n",
       "      <th></th>\n",
       "      <th>País</th>\n",
       "      <th>Capital</th>\n",
       "      <th>População</th>\n",
       "    </tr>\n",
       "  </thead>\n",
       "  <tbody>\n",
       "    <tr>\n",
       "      <th>2</th>\n",
       "      <td>Brasil</td>\n",
       "      <td>Brasília</td>\n",
       "      <td>987654</td>\n",
       "    </tr>\n",
       "    <tr>\n",
       "      <th>1</th>\n",
       "      <td>Índia</td>\n",
       "      <td>Nova Delhi</td>\n",
       "      <td>456789</td>\n",
       "    </tr>\n",
       "    <tr>\n",
       "      <th>0</th>\n",
       "      <td>Bélgica</td>\n",
       "      <td>Bruxelas</td>\n",
       "      <td>123465</td>\n",
       "    </tr>\n",
       "  </tbody>\n",
       "</table>\n",
       "</div>"
      ],
      "text/plain": [
       "      País     Capital  População\n",
       "2   Brasil    Brasília     987654\n",
       "1    Índia  Nova Delhi     456789\n",
       "0  Bélgica    Bruxelas     123465"
      ]
     },
     "execution_count": 59,
     "metadata": {},
     "output_type": "execute_result"
    }
   ],
   "source": [
    "df.sort_values(by='População', ascending= False)"
   ]
  },
  {
   "cell_type": "markdown",
   "metadata": {},
   "source": [
    "### Operações aritmeticas com Series"
   ]
  },
  {
   "cell_type": "code",
   "execution_count": 60,
   "metadata": {},
   "outputs": [
    {
     "name": "stdout",
     "output_type": "stream",
     "text": [
      "a     1\n",
      "b     3\n",
      "c     5\n",
      "d     7\n",
      "e     9\n",
      "f    11\n",
      "dtype: int64 <class 'pandas.core.series.Series'>\n"
     ]
    }
   ],
   "source": [
    "s = pd.Series([1, 3, 5, 7, 9, 11], index = ['a', 'b', 'c', 'd', 'e', 'f'])\n",
    "print(s, type(s))"
   ]
  },
  {
   "cell_type": "code",
   "execution_count": 61,
   "metadata": {},
   "outputs": [
    {
     "name": "stdout",
     "output_type": "stream",
     "text": [
      "a     12\n",
      "b     36\n",
      "c     60\n",
      "d     84\n",
      "e    108\n",
      "f    132\n",
      "dtype: int64\n"
     ]
    },
    {
     "data": {
      "text/plain": [
       "a    0.5\n",
       "b    1.5\n",
       "c    2.5\n",
       "d    3.5\n",
       "e    4.5\n",
       "f    5.5\n",
       "dtype: float64"
      ]
     },
     "execution_count": 61,
     "metadata": {},
     "output_type": "execute_result"
    }
   ],
   "source": [
    "s.add(2) #soma 2 a todos mas NÃO ALTERA A SÉRIE\n",
    "s.sub(4)\n",
    "#print(s)\n",
    "print(s.mul(12))\n",
    "s.div(2)\n",
    "#print(s)\n",
    "# as operações são feitas em todos os elementos da Serie"
   ]
  },
  {
   "cell_type": "markdown",
   "metadata": {},
   "source": [
    "### Indexação por Boolean"
   ]
  },
  {
   "cell_type": "code",
   "execution_count": 62,
   "metadata": {},
   "outputs": [
    {
     "data": {
      "text/html": [
       "<div>\n",
       "<style scoped>\n",
       "    .dataframe tbody tr th:only-of-type {\n",
       "        vertical-align: middle;\n",
       "    }\n",
       "\n",
       "    .dataframe tbody tr th {\n",
       "        vertical-align: top;\n",
       "    }\n",
       "\n",
       "    .dataframe thead th {\n",
       "        text-align: right;\n",
       "    }\n",
       "</style>\n",
       "<table border=\"1\" class=\"dataframe\">\n",
       "  <thead>\n",
       "    <tr style=\"text-align: right;\">\n",
       "      <th></th>\n",
       "      <th>País</th>\n",
       "      <th>Capital</th>\n",
       "      <th>População</th>\n",
       "    </tr>\n",
       "  </thead>\n",
       "  <tbody>\n",
       "    <tr>\n",
       "      <th>2</th>\n",
       "      <td>Brasil</td>\n",
       "      <td>Brasília</td>\n",
       "      <td>987654</td>\n",
       "    </tr>\n",
       "  </tbody>\n",
       "</table>\n",
       "</div>"
      ],
      "text/plain": [
       "     País   Capital  População\n",
       "2  Brasil  Brasília     987654"
      ]
     },
     "execution_count": 62,
     "metadata": {},
     "output_type": "execute_result"
    }
   ],
   "source": [
    "df[df['População'] % 2 == 0]"
   ]
  },
  {
   "cell_type": "markdown",
   "metadata": {},
   "source": [
    "### Selecionando valores  \n",
    "df.loc [ \"indice linha\", \"Nome da Coluna\" ] -- label-based  \n",
    "  \n",
    "df.iloc [ \"indice linha\", \"indice coluna\" ]  -- integer index-based"
   ]
  },
  {
   "cell_type": "code",
   "execution_count": 63,
   "metadata": {},
   "outputs": [
    {
     "data": {
      "text/plain": [
       "'Bélgica'"
      ]
     },
     "execution_count": 63,
     "metadata": {},
     "output_type": "execute_result"
    }
   ],
   "source": [
    "df.loc[0, 'País']"
   ]
  },
  {
   "cell_type": "code",
   "execution_count": 64,
   "metadata": {},
   "outputs": [
    {
     "data": {
      "text/plain": [
       "'Bélgica'"
      ]
     },
     "execution_count": 64,
     "metadata": {},
     "output_type": "execute_result"
    }
   ],
   "source": [
    "df.iloc[0,0]"
   ]
  }
 ],
 "metadata": {
  "interpreter": {
   "hash": "ba5878b7676dd9f9680cf155c8752a6ee671b54705d86e19b689f9e7133f07de"
  },
  "kernelspec": {
   "display_name": "Python 3.9.7 ('base')",
   "language": "python",
   "name": "python3"
  },
  "language_info": {
   "codemirror_mode": {
    "name": "ipython",
    "version": 3
   },
   "file_extension": ".py",
   "mimetype": "text/x-python",
   "name": "python",
   "nbconvert_exporter": "python",
   "pygments_lexer": "ipython3",
   "version": "3.9.7"
  },
  "orig_nbformat": 4
 },
 "nbformat": 4,
 "nbformat_minor": 2
}
