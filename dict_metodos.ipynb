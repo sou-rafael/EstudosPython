{
 "cells": [
  {
   "cell_type": "markdown",
   "metadata": {},
   "source": [
    "# DICT - dicionário\n",
    "Os tipos de dados compostos tupla, lista e string, são coleções sequenciais, isto é, os itens na coleção estão ordenados da esquerda para a direita e eles usam números inteiros como índices para acessar os valores que eles contêm.  \n",
    "O dicionário é um tipo diferente de coleção. Ele é um tipo de mapeamento nativo do Python. Um mapa é uma coleção associativa desordenada. A associação, ou mapeamento, é feita a partir de uma chave, que pode ser qualquer tipo imutável, para um valor, que pode ser qualquer objeto de dados do Python."
   ]
  },
  {
   "cell_type": "markdown",
   "metadata": {},
   "source": [
    "Inicializando um dicionário\n",
    "\n",
    "Uma maneira de criar um dicionario vazio é {}  \n",
    "Podemos também criar ou acrescentar elementos nele acrescentando pares de CHAVE:VALOR identificando o dicionario, referenciando a chave e atribuindo o valor: dicionario[chave] = valor"
   ]
  },
  {
   "cell_type": "code",
   "execution_count": 1,
   "metadata": {},
   "outputs": [
    {
     "name": "stdout",
     "output_type": "stream",
     "text": [
      "{'canino': 'cachorro', 'felino': 'gato', 'equino': 'cavalo'}\n"
     ]
    }
   ],
   "source": [
    "mamiferos = {}\n",
    "mamiferos['canino'] = 'cachorro'\n",
    "mamiferos['felino'] = 'gato'\n",
    "mamiferos['equino'] = 'cavalo'\n",
    "\n",
    "# Poderia ser fornecido uma lista diretamente, com as chaves:valores\n",
    "#mamiferos = {'canino': 'cachorro', 'felino': 'gato', 'equino': 'cavalo'}\n",
    "print(mamiferos)"
   ]
  },
  {
   "cell_type": "markdown",
   "metadata": {},
   "source": [
    "Curiosidade:  \n",
    "Assim como nos conjuntos, a ordem dos pares pode não ser a que você esperava. O Python usa algoritmos complexos, projetados para acesso muito rápido, para determinar onde os pares chave-valor são armazenadas em um dicionário.  \n",
    "Para os nossos propósitos, podemos pensar que esta ordenação é imprevisível.  \n",
    "  \n",
    "  >Não importa em que ordem escrevemos os pares. Os valores em um dicionário são acessados com chaves, não com índices, por isso não há necessidade de se preocupar com a ordenação."
   ]
  },
  {
   "cell_type": "code",
   "execution_count": 2,
   "metadata": {},
   "outputs": [],
   "source": [
    "# mamiferos[1] ##não é possivel acessar por index, já que os elementos não são indexados"
   ]
  },
  {
   "cell_type": "code",
   "execution_count": 3,
   "metadata": {},
   "outputs": [
    {
     "data": {
      "text/plain": [
       "'gato'"
      ]
     },
     "execution_count": 3,
     "metadata": {},
     "output_type": "execute_result"
    }
   ],
   "source": [
    "mamiferos['felino']     # o acesso acontece apenas pela passagem da chave, independente da posição desse elemento no dicionario"
   ]
  },
  {
   "cell_type": "markdown",
   "metadata": {},
   "source": [
    "### Criando um dicionário a partir de 2 listas:  \n",
    "Usamos a função \" zip(lista1, lista2) \"  \n",
    ">Para cada valor do primeiro parametro (lista1), será associado um valor sequencialmente equivalente do segundo parametro (lista2).  \n",
    "Por essa razão é importante que as duas possuam a mesma dimensão."
   ]
  },
  {
   "cell_type": "markdown",
   "metadata": {},
   "source": [
    "# Operações com Dicionários"
   ]
  },
  {
   "cell_type": "markdown",
   "metadata": {},
   "source": [
    "Remover um par de chave:valor - \"del dicionario[chave]\""
   ]
  },
  {
   "cell_type": "code",
   "execution_count": 4,
   "metadata": {},
   "outputs": [
    {
     "name": "stdout",
     "output_type": "stream",
     "text": [
      "{'canino': 'cachorro', 'felino': 'gato'}\n"
     ]
    }
   ],
   "source": [
    "del mamiferos['equino']\n",
    "print(mamiferos)"
   ]
  },
  {
   "cell_type": "markdown",
   "metadata": {},
   "source": [
    "Os dicionários são MUTÁVEIS, isto é, podemos alterar os elementos tanto das chaves quanto dos valores."
   ]
  },
  {
   "cell_type": "code",
   "execution_count": 5,
   "metadata": {},
   "outputs": [
    {
     "name": "stdout",
     "output_type": "stream",
     "text": [
      "{'canino': 'cachorro', 'felino': 'leão'}\n"
     ]
    }
   ],
   "source": [
    "mamiferos['felino'] = 'leão'\n",
    "print(mamiferos)"
   ]
  },
  {
   "cell_type": "markdown",
   "metadata": {},
   "source": [
    "Conferindo o tamanho com a função len():  \n",
    "Atentar que o comportamento não muda de acordo com o tipo de dados dos valores.  \n",
    "Ela irá retornar a quantidade de elementos (chave:valor)"
   ]
  },
  {
   "cell_type": "code",
   "execution_count": 6,
   "metadata": {},
   "outputs": [
    {
     "data": {
      "text/plain": [
       "2"
      ]
     },
     "execution_count": 6,
     "metadata": {},
     "output_type": "execute_result"
    }
   ],
   "source": [
    "len(mamiferos) # contém apenas strings"
   ]
  },
  {
   "cell_type": "code",
   "execution_count": 7,
   "metadata": {},
   "outputs": [
    {
     "name": "stdout",
     "output_type": "stream",
     "text": [
      "{'carros': 13, 'motos': 11, 'bicicletas': 8}\n",
      "3\n"
     ]
    }
   ],
   "source": [
    "#criando um dicionario de contagem:\n",
    "elementos = {'carros': 13, 'motos': 2, 'bicicletas': 8}\n",
    "elementos['motos'] = elementos['motos'] + 9\n",
    "print(elementos, end='\\n')\n",
    "print(len(elementos)) #contém números inteiros"
   ]
  },
  {
   "cell_type": "code",
   "execution_count": 8,
   "metadata": {},
   "outputs": [
    {
     "name": "stdout",
     "output_type": "stream",
     "text": [
      "{'carros': 13, 'motos': 11, 'bicicletas': 8, 'duas rodas': 19}\n"
     ]
    }
   ],
   "source": [
    "# Podemos fazer operações com os valores, referenciando as chaves\n",
    "elementos['duas rodas'] = elementos['motos'] + elementos['bicicletas']\n",
    "print(elementos)"
   ]
  },
  {
   "cell_type": "markdown",
   "metadata": {},
   "source": [
    "Métodos de visualização das chaves, dos valores e das tulpas de chave:valor"
   ]
  },
  {
   "cell_type": "code",
   "execution_count": 9,
   "metadata": {},
   "outputs": [
    {
     "name": "stdout",
     "output_type": "stream",
     "text": [
      "Vista das chaves:  dict_keys(['carros', 'motos', 'bicicletas', 'duas rodas'])\n",
      "Vista dos valores:  dict_values([13, 11, 8, 19])\n",
      "Vista dos itens:  dict_items([('carros', 13), ('motos', 11), ('bicicletas', 8), ('duas rodas', 19)])\n"
     ]
    }
   ],
   "source": [
    "print(f'Vista das chaves: ', elementos.keys())\n",
    "print(f'Vista dos valores: ', elementos.values())\n",
    "print(f'Vista dos itens: ', elementos.items()) # tuplas chave:valor"
   ]
  },
  {
   "cell_type": "markdown",
   "metadata": {},
   "source": [
    "O MÉTODO GET  \n",
    "Ele nos permite acessar o valor associado a uma chave, similar ao operador [].  \n",
    "A diferença importante é que get não irá causar um erro de execução se a chave não está presente. Ao invés disso, retorna None.  \n",
    ">Existe uma variação de get que permite o retorno de um valor alternativo quando a chave não está presente:  \n",
    "\"dicionario.get('chave', alt)\" o alt é a alternativa que será retornada caso a chave não esteja presente."
   ]
  },
  {
   "cell_type": "code",
   "execution_count": 10,
   "metadata": {},
   "outputs": [
    {
     "name": "stdout",
     "output_type": "stream",
     "text": [
      "True\n"
     ]
    }
   ],
   "source": [
    "print(elementos.get('carros') is elementos['carros'])"
   ]
  },
  {
   "cell_type": "code",
   "execution_count": 11,
   "metadata": {},
   "outputs": [
    {
     "name": "stdout",
     "output_type": "stream",
     "text": [
      "1\n",
      "1.625\n",
      "5\n"
     ]
    }
   ],
   "source": [
    "#Uma operação de divisão INTEIRA dos valores: o operador ' // ' retorna a parte inteira da divisão\n",
    "print(elementos.get('carros')//elementos.get('bicicletas'))\n",
    "\n",
    "#Divisão comum\n",
    "print(elementos.get('carros')/elementos.get('bicicletas'))\n",
    "\n",
    "#Modulo da divisão\n",
    "print(elementos.get('carros')%elementos.get('bicicletas'))"
   ]
  },
  {
   "cell_type": "code",
   "execution_count": 12,
   "metadata": {},
   "outputs": [
    {
     "name": "stdout",
     "output_type": "stream",
     "text": [
      "None\n",
      "Não encotrei esta chave\n"
     ]
    }
   ],
   "source": [
    "#   elementos['triciclos']      # acusa um erro (KeyError)\n",
    "print(elementos.get('triciclos')) #msm nao tendo a chave, nao reporta um erro, apenas retorna None\n",
    "print(elementos.get('triciclos', 'Não encotrei esta chave')) # retorna uma string explicativa ou qualquer outro tipo de dado"
   ]
  },
  {
   "cell_type": "markdown",
   "metadata": {},
   "source": [
    "Referências e cópias  \n",
    "Como os dicionários são mutáveis, precisamos ter cautela com os apelidos (ou aliasing, como vimos com listas).  \n",
    "Sempre que duas variáveis se referem ao mesmo objeto no dicionário, a mudança de uma afeta a outra."
   ]
  },
  {
   "cell_type": "code",
   "execution_count": 13,
   "metadata": {},
   "outputs": [
    {
     "name": "stdout",
     "output_type": "stream",
     "text": [
      "elementos foi passado como referencia para alias_elementos\n",
      "Para confirmar que alias_elementos é igual a elementos:  True\n",
      "\n",
      "Após a mudanca no alias, ele ficou assim:\n",
      " {'carros': 500, 'motos': 11, 'bicicletas': 8, 'duas rodas': 19} \n",
      "O elementos ficou assim:\n",
      " {'carros': 500, 'motos': 11, 'bicicletas': 8, 'duas rodas': 19}\n"
     ]
    }
   ],
   "source": [
    "alias_elementos = elementos\n",
    "print('elementos foi passado como referencia para alias_elementos')\n",
    "print('Para confirmar que alias_elementos é igual a elementos: ', alias_elementos is elementos, end='\\n\\n')\n",
    "#Alterando o valor em alias_elementos e conferindo a repercussao em elementos\n",
    "alias_elementos['carros'] = 500\n",
    "print('Após a mudanca no alias, ele ficou assim:\\n', alias_elementos, '\\nO elementos ficou assim:\\n', elementos)\n",
    "# Ideal seria ter usado o método \".copy()\""
   ]
  },
  {
   "cell_type": "code",
   "execution_count": 14,
   "metadata": {},
   "outputs": [
    {
     "name": "stdout",
     "output_type": "stream",
     "text": [
      "alias_mamiferos recebeu uma cópia de mamiferos, sem as referencias\n",
      "Para confirmar: copy_mamiferos é igual a mamiferos?  False\n"
     ]
    }
   ],
   "source": [
    "# com copy é diferente\n",
    "copy_mamiferos = mamiferos.copy()\n",
    "print('alias_mamiferos recebeu uma cópia de mamiferos, sem as referencias')\n",
    "print('Para confirmar: copy_mamiferos é igual a mamiferos? ', copy_mamiferos is mamiferos)"
   ]
  }
 ],
 "metadata": {
  "interpreter": {
   "hash": "ba5878b7676dd9f9680cf155c8752a6ee671b54705d86e19b689f9e7133f07de"
  },
  "kernelspec": {
   "display_name": "Python 3.9.7 ('base')",
   "language": "python",
   "name": "python3"
  },
  "language_info": {
   "codemirror_mode": {
    "name": "ipython",
    "version": 3
   },
   "file_extension": ".py",
   "mimetype": "text/x-python",
   "name": "python",
   "nbconvert_exporter": "python",
   "pygments_lexer": "ipython3",
   "version": "3.9.7"
  },
  "orig_nbformat": 4
 },
 "nbformat": 4,
 "nbformat_minor": 2
}
